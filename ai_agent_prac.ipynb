{
 "cells": [
  {
   "cell_type": "markdown",
   "id": "39fd1948-b5c3-48c4-b10e-2ae7e8c83334",
   "metadata": {
    "id": "39fd1948-b5c3-48c4-b10e-2ae7e8c83334"
   },
   "source": [
    "# Multi-agent network\n",
    "- 출처 : https://github.com/langchain-ai/langgraph/blob/main/docs/docs/tutorials/multi_agent/multi-agent-collaboration.ipynb\n",
    "- 수정사항 : 한글화 및 일부 내용 수정\n"
   ]
  },
  {
   "cell_type": "markdown",
   "id": "rr5XEyknEe9X",
   "metadata": {
    "id": "rr5XEyknEe9X"
   },
   "source": [
    "## 필수 패키지 설치"
   ]
  },
  {
   "cell_type": "code",
   "execution_count": 16,
   "id": "0d7b6dcc-c985-46e2-8457-7e6b0298b950",
   "metadata": {
    "id": "0d7b6dcc-c985-46e2-8457-7e6b0298b950"
   },
   "outputs": [
    {
     "name": "stderr",
     "output_type": "stream",
     "text": [
      "\n",
      "[notice] A new release of pip is available: 24.3.1 -> 25.1.1\n",
      "[notice] To update, run: python.exe -m pip install --upgrade pip\n"
     ]
    }
   ],
   "source": [
    "%%capture --no-stderr\n",
    "%pip install -U langchain_community langchain_openai langchain_anthropic langchain_experimental matplotlib langgraph"
   ]
  },
  {
   "cell_type": "markdown",
   "id": "rtO6s7aCEru6",
   "metadata": {
    "id": "rtO6s7aCEru6"
   },
   "source": [
    "##  API 키 설정\n",
    "o OPENAI_API_KEY : https://platform.openai.com/api-keys   \n",
    "o ANTHROPIC_API_KEY : https://console.anthropic.com/settings/keys  \n",
    "o TAVILY_API_KEY : https://app.tavily.com/home : API Keys"
   ]
  },
  {
   "cell_type": "code",
   "execution_count": 17,
   "id": "743c19df-6da9-4d1e-b2d2-ea40080b9fdc",
   "metadata": {
    "colab": {
     "base_uri": "https://localhost:8080/"
    },
    "id": "743c19df-6da9-4d1e-b2d2-ea40080b9fdc",
    "outputId": "84155f2e-2f30-4aa7-9824-13d83e9d679f"
   },
   "outputs": [],
   "source": [
    "import getpass\n",
    "import os\n",
    "\n",
    "\n",
    "# def _set_if_undefined(var: str):\n",
    "#     if not os.environ.get(var):\n",
    "#         os.environ[var] = getpass.getpass(f\"Please provide your {var}\")\n",
    "\n",
    "\n",
    "# _set_if_undefined(\"ANTHROPIC_API_KEY\")\n",
    "# _set_if_undefined(\"TAVILY_API_KEY\")\n",
    "\n",
    "\n",
    "def get_api_key(var_name: str) -> str:\n",
    "    value = os.getenv(var_name)\n",
    "    if not value:\n",
    "        raise EnvironmentError(f\"{var_name} 환경변수가 설정되어 있지 않습니다.\")\n",
    "    return value\n",
    "\n",
    "# 사용 예시\n",
    "anthropic_key = get_api_key(\"ANTHROPIC_API_KEY\")\n",
    "tavily_key = get_api_key(\"TAVILY_API_KEY\")"
   ]
  },
  {
   "cell_type": "markdown",
   "id": "b4b40de2-5dd4-4d5b-882e-577210723ff4",
   "metadata": {
    "id": "b4b40de2-5dd4-4d5b-882e-577210723ff4"
   },
   "source": [
    "## 도구(Tool) 정의\n",
    "에이전트가 사용할 도구를 정의(Define)"
   ]
  },
  {
   "cell_type": "code",
   "execution_count": 26,
   "id": "ca076f3b-a729-4ca9-8f91-05c2ba58d610",
   "metadata": {
    "id": "ca076f3b-a729-4ca9-8f91-05c2ba58d610"
   },
   "outputs": [],
   "source": [
    "from typing import Annotated\n",
    "\n",
    "from langchain_community.tools.tavily_search import TavilySearchResults\n",
    "from langchain_core.tools import tool\n",
    "from langchain_experimental.utilities import PythonREPL\n",
    "\n",
    "tavily_tool = TavilySearchResults(max_results=5)\n",
    "\n",
    "# Warning: This executes code locally, which can be unsafe when not sandboxed\n",
    "\n",
    "repl = PythonREPL()\n",
    "\n",
    "\n",
    "@tool\n",
    "def python_repl_tool(\n",
    "    code: Annotated[str, \"The python code to execute to generate your chart.\"],\n",
    "):\n",
    "    \"\"\"Use this to execute python code. If you want to see the output of a value,\n",
    "    you should print it out with `print(...)`. This is visible to the user.\"\"\"\n",
    "    try:\n",
    "        result = repl.run(code)\n",
    "    except BaseException as e:\n",
    "        return f\"Failed to execute. Error: {repr(e)}\"\n",
    "    result_str = f\"Successfully executed:\\n```python\\n{code}\\n```\\nStdout: {result}\"\n",
    "    return (\n",
    "        result_str + \"\\n\\nIf you have completed all tasks, respond with FINAL ANSWER.\"\n",
    "    )"
   ]
  },
  {
   "cell_type": "markdown",
   "id": "f1b54c0c-0b09-408b-abc5-86308929afb6",
   "metadata": {
    "id": "f1b54c0c-0b09-408b-abc5-86308929afb6"
   },
   "source": [
    "## 그래프 만들기\n",
    "이제 도구를 정의하고 일부 helper function을 만들었으므로 아래의   \n",
    "개별 에이전트를 만들고 LangGraph를 사용하여 서로 대화하는 방법을 알려줍니다."
   ]
  },
  {
   "cell_type": "markdown",
   "id": "911a283e-ea04-40c1-b792-f9e5f7d81203",
   "metadata": {
    "id": "911a283e-ea04-40c1-b792-f9e5f7d81203"
   },
   "source": [
    "### 에이전트 노드 정의\n",
    "먼저 각 에이전트에 대한 시스템 프롬프트를 만드는 유틸리티를 만듭니다."
   ]
  },
  {
   "cell_type": "code",
   "execution_count": 27,
   "id": "4325a10e-38dc-4a98-9004-e1525eaba377",
   "metadata": {
    "id": "4325a10e-38dc-4a98-9004-e1525eaba377"
   },
   "outputs": [],
   "source": [
    "def make_system_prompt(suffix: str) -> str:\n",
    "    return (\n",
    "        \"You are a helpful AI assistant, collaborating with other assistants.\"\n",
    "        \" Use the provided tools to progress towards answering the question.\"\n",
    "        \" If you are unable to fully answer, that's OK, another assistant with different tools \"\n",
    "        \" will help where you left off. Execute what you can to make progress.\"\n",
    "        \" If you or any of the other assistants have the final answer or deliverable,\"\n",
    "        \" prefix your response with FINAL ANSWER so the team knows to stop.\"\n",
    "        f\"\\n{suffix}\"\n",
    "    )"
   ]
  },
  {
   "cell_type": "markdown",
   "id": "6uLue20BGYj7",
   "metadata": {
    "id": "6uLue20BGYj7"
   },
   "source": [
    "\"당신은 다른 어시스턴트들과 협업하는 유용한 AI 어시스턴트입니다.\"  \n",
    "\"제공된 도구를 사용하여 질문에 대한 답변을 진행하세요.\"   \n",
    "\"완전히 답변할 수 없어도 괜찮습니다. 다른 도구를 사용하는 다른 어시스턴트가 \"  \n",
    "\" 중단한 부분부터 도와드릴 것입니다. 진행을 위해 할 수 있는 일을 실행하세요.\"   \n",
    "\"당신이나 다른 어시스턴트 중 누군가가 최종 답변이나 제공물을 가지고 있는 경우,\"  \n",
    "\"팀이 중단해야 한다는 것을 알 수 있도록 답변 앞에 FINAL ANSWER를 붙여주세요.\""
   ]
  },
  {
   "cell_type": "code",
   "execution_count": 20,
   "id": "71b790ca-9cef-4b22-b469-4b1d5d8424d6",
   "metadata": {
    "id": "71b790ca-9cef-4b22-b469-4b1d5d8424d6"
   },
   "outputs": [],
   "source": [
    "from typing import Literal\n",
    "\n",
    "from langchain_core.messages import BaseMessage, HumanMessage\n",
    "from langchain_openai import ChatOpenAI\n",
    "from langchain_anthropic import ChatAnthropic\n",
    "from langgraph.prebuilt import create_react_agent\n",
    "from langgraph.graph import MessagesState, END\n",
    "from langgraph.types import Command\n",
    "\n",
    "\n",
    "llm = ChatOpenAI(model=\"gpt-4o\")\n",
    "# llm = ChatAnthropic(model=\"claude-3-5-sonnet-latest\")\n",
    "\n",
    "def get_next_node(last_message: BaseMessage, goto: str):\n",
    "    if \"FINAL ANSWER\" in last_message.content:\n",
    "        # Any agent decided the work is done\n",
    "        return END\n",
    "    return goto\n",
    "\n",
    "\n",
    "# Research agent and node\n",
    "research_agent = create_react_agent(\n",
    "    llm,\n",
    "    tools=[tavily_tool],\n",
    "    prompt=make_system_prompt(\n",
    "        \"You can only do research. You are working with a chart generator colleague.\"\n",
    "    ),\n",
    ")\n",
    "\n",
    "\n",
    "def research_node(\n",
    "    state: MessagesState,\n",
    ") -> Command[Literal[\"chart_generator\", END]]:\n",
    "    result = research_agent.invoke(state)\n",
    "    goto = get_next_node(result[\"messages\"][-1], \"chart_generator\")\n",
    "    # wrap in a human message, as not all providers allow\n",
    "    # AI message at the last position of the input messages list\n",
    "    result[\"messages\"][-1] = HumanMessage(\n",
    "        content=result[\"messages\"][-1].content, name=\"researcher\"\n",
    "    )\n",
    "    return Command(\n",
    "        update={\n",
    "            # share internal message history of research agent with other agents\n",
    "            \"messages\": result[\"messages\"],\n",
    "        },\n",
    "        goto=goto,\n",
    "    )\n",
    "\n",
    "\n",
    "# Chart generator agent and node\n",
    "# NOTE: THIS PERFORMS ARBITRARY CODE EXECUTION, WHICH CAN BE UNSAFE WHEN NOT SANDBOXED\n",
    "chart_agent = create_react_agent(\n",
    "    llm,\n",
    "    [python_repl_tool],\n",
    "    prompt=make_system_prompt(\n",
    "        \"You can only generate charts. You are working with a researcher colleague.\"\n",
    "    ),\n",
    ")\n",
    "\n",
    "\n",
    "def chart_node(state: MessagesState) -> Command[Literal[\"researcher\", END]]:\n",
    "    result = chart_agent.invoke(state)\n",
    "    goto = get_next_node(result[\"messages\"][-1], \"researcher\")\n",
    "    # wrap in a human message, as not all providers allow\n",
    "    # AI message at the last position of the input messages list\n",
    "    result[\"messages\"][-1] = HumanMessage(\n",
    "        content=result[\"messages\"][-1].content, name=\"chart_generator\"\n",
    "    )\n",
    "    return Command(\n",
    "        update={\n",
    "            # share internal message history of chart agent with other agents\n",
    "            \"messages\": result[\"messages\"],\n",
    "        },\n",
    "        goto=goto,\n",
    "    )"
   ]
  },
  {
   "cell_type": "markdown",
   "id": "e9359c34-e191-43a2-a3d4-f2dea636dfd2",
   "metadata": {
    "id": "e9359c34-e191-43a2-a3d4-f2dea636dfd2"
   },
   "source": [
    "### 그래프 정의\n",
    "이제 모든 것을 모아 그래프를 정의합니다."
   ]
  },
  {
   "cell_type": "code",
   "execution_count": 21,
   "id": "2c4a5ade-5912-494b-bf62-8a99278f9f12",
   "metadata": {
    "id": "2c4a5ade-5912-494b-bf62-8a99278f9f12"
   },
   "outputs": [],
   "source": [
    "from langgraph.graph import StateGraph, START\n",
    "\n",
    "workflow = StateGraph(MessagesState)\n",
    "workflow.add_node(\"researcher\", research_node)\n",
    "workflow.add_node(\"chart_generator\", chart_node)\n",
    "\n",
    "workflow.add_edge(START, \"researcher\")\n",
    "graph = workflow.compile()"
   ]
  },
  {
   "cell_type": "code",
   "execution_count": 22,
   "id": "97f8e0eb",
   "metadata": {
    "colab": {
     "base_uri": "https://localhost:8080/",
     "height": 350
    },
    "id": "97f8e0eb",
    "outputId": "237e2b52-1437-4a8f-f2e5-0d5f3cfc8513"
   },
   "outputs": [
    {
     "data": {
      "image/png": "[encoded data removed]",
      "text/plain": [
       "<IPython.core.display.Image object>"
      ]
     },
     "metadata": {},
     "output_type": "display_data"
    }
   ],
   "source": [
    "from IPython.display import Image, display\n",
    "\n",
    "try:\n",
    "    display(Image(graph.get_graph().draw_mermaid_png()))\n",
    "except Exception:\n",
    "    # This requires some extra dependencies and is optional\n",
    "    pass"
   ]
  },
  {
   "cell_type": "markdown",
   "id": "8c9447e7-9ab6-43eb-8ae6-9b52f8ba8425",
   "metadata": {
    "id": "8c9447e7-9ab6-43eb-8ae6-9b52f8ba8425"
   },
   "source": [
    "## 호출(Invoke)\n",
    "그래프가 생성되었으니 호출할 수 있습니다!  \n",
    "몇 가지 통계를 차트로 표시해 보겠습니다."
   ]
  },
  {
   "cell_type": "code",
   "execution_count": 23,
   "id": "9f478b05-3f09-447f-a9f4-1b2eae73f5ef",
   "metadata": {
    "colab": {
     "base_uri": "https://localhost:8080/",
     "height": 576
    },
    "id": "9f478b05-3f09-447f-a9f4-1b2eae73f5ef",
    "outputId": "287eaac2-18ad-4399-b2e2-f6207313ab39"
   },
   "outputs": [
    {
     "name": "stdout",
     "output_type": "stream",
     "text": [
      "{'researcher': {'messages': [HumanMessage(content=\"First, get the KOREA's GDP over the past 10 years, then make a line chart of it. Once you make the chart, finish.\", additional_kwargs={}, response_metadata={}, id='13c5ff4a-18be-47b7-9a9c-9d3414be1a91'), AIMessage(content='', additional_kwargs={'tool_calls': [{'id': 'call_abZmm7l40K9WiavikzlATfUF', 'function': {'arguments': '{\"query\":\"South Korea GDP last 10 years\"}', 'name': 'tavily_search_results_json'}, 'type': 'function'}], 'refusal': None}, response_metadata={'token_usage': {'completion_tokens': 24, 'prompt_tokens': 211, 'total_tokens': 235, 'completion_tokens_details': {'accepted_prediction_tokens': 0, 'audio_tokens': 0, 'reasoning_tokens': 0, 'rejected_prediction_tokens': 0}, 'prompt_tokens_details': {'audio_tokens': 0, 'cached_tokens': 0}}, 'model_name': 'gpt-4o-2024-08-06', 'system_fingerprint': 'fp_07871e2ad8', 'id': 'chatcmpl-BfwvNVFSzCAGYo3nk5dvDIuloAoge', 'service_tier': 'default', 'finish_reason': 'tool_calls', 'logprobs': None}, id='run--797bb516-c2c3-4bcd-8789-0ae2d8e30c08-0', tool_calls=[{'name': 'tavily_search_results_json', 'args': {'query': 'South Korea GDP last 10 years'}, 'id': 'call_abZmm7l40K9WiavikzlATfUF', 'type': 'tool_call'}], usage_metadata={'input_tokens': 211, 'output_tokens': 24, 'total_tokens': 235, 'input_token_details': {'audio': 0, 'cache_read': 0}, 'output_token_details': {'audio': 0, 'reasoning': 0}}), ToolMessage(content='[{\"title\": \"South Korea GDP 1987-2030 - Statista\", \"url\": \"https://www.statista.com/statistics/263579/gross-domestic-product-gdp-in-south-korea/\", \"content\": \"[](https://www.statista.com/statistics/263579/gross-domestic-product-gdp-in-south-korea/#statisticContainer)The statistic shows gross domestic product (GDP) of South Korea from 1987 to 2023, with projections up until 2029. GDP or gross domestic product is the sum of all goods and services produced in a country in a year; it is a strong indicator of economic strength. In 2023, South Korea\\'s GDP was around 1.71 trillion U.S. dollars. See [global [...] IMF. (October 10, 2024). South Korea: Gross domestic product (GDP) in current prices from 1987 to 2029 (in billion U.S. dollars) \\\\\\\\[Graph\\\\\\\\]. In Statista. Retrieved May 09, 2025, from https://www.statista.com/statistics/263579/gross-domestic-product-gdp-in-south-korea/ [...] IMF. \\\\\"South Korea: Gross domestic product (GDP) in current prices from 1987 to 2029 (in billion U.S. dollars).\\\\\" Chart. October 10, 2024. Statista. Accessed May 09, 2025. https://www.statista.com/statistics/263579/gross-domestic-product-gdp-in-south-korea/\", \"score\": 0.8700796}, {\"title\": \"South Korea GDP 1960-2025 | MacroTrends\", \"url\": \"https://www.macrotrends.net/global-metrics/countries/kor/south-korea/gdp-gross-domestic-product\", \"content\": \"##### South Korea GDP for 2023 was **1.713 trillion US dollars**, a **2.32% increase** from 2022.\\\\n\\\\n*   South Korea GDP for 2022 was **1.674 trillion US dollars**, a **7.95% decline** from 2021.\\\\n*   South Korea GDP for 2021 was **1.818 trillion US dollars**, a **10.59% increase** from 2020.\\\\n*   South Korea GDP for 2020 was **1.644 trillion US dollars**, a **0.43% decline** from 2019.\", \"score\": 0.8638634}, {\"title\": \"South Korea GDP - Worldometer\", \"url\": \"https://www.worldometers.info/gdp/south-korea-gdp/\", \"content\": \"| Year | GDP Nominal (Current USD) | GDP Real (Inflation adj.) | GDP Change | GDP per capita | Pop. Change | Population |\\\\n| --- | --- | --- | --- | --- | --- | --- |\\\\n| 2023 | $1,712,790,000,000 | $1,764,490,000,000 | 1.36% | $34,097 | −0.07% | 51,748,739 |\\\\n| 2022 | $1,673,920,000,000 | $1,740,870,000,000 | 2.61% | $33,619 | −0.13% | 51,782,512 |\\\\n| 2021 | $1,818,430,000,000 | $1,696,540,000,000 | 4.3% | $32,721 | −0.02% | 51,848,397 | [...] | 2020 | $1,644,310,000,000 | $1,626,530,000,000 | −0.71% | $31,365 | 0.18% | 51,858,482 |\\\\n| 2019 | $1,651,420,000,000 | $1,638,150,000,000 | 2.24% | $31,644 | 0.25% | 51,767,846 |\\\\n| 2018 | $1,725,370,000,000 | $1,602,190,000,000 | 2.91% | $31,026 | 0.3% | 51,640,894 |\\\\n| 2017 | $1,623,070,000,000 | $1,556,930,000,000 | 3.16% | $30,240 | 0.37% | 51,486,270 |\\\\n| 2016 | $1,499,680,000,000 | $1,509,240,000,000 | 2.95% | $29,421 | 0.62% | 51,297,839 | [...] | 2015 | $1,466,040,000,000 | $1,466,040,000,000 | 2.81% | $28,755 | 0.88% | 50,983,912 |\\\\n| 2014 | $1,484,490,000,000 | $1,425,980,000,000 | 3.2% | $28,215 | 0.93% | 50,539,056 |\\\\n| 2013 | $1,370,630,000,000 | $1,381,730,000,000 | 3.16% | $27,595 | 0.95% | 50,071,164 |\\\\n| 2012 | $1,278,050,000,000 | $1,339,350,000,000 | 2.4% | $27,003 | 0.96% | 49,599,579 |\\\\n| 2011 | $1,253,290,000,000 | $1,307,920,000,000 | 3.69% | $26,623 | 0.73% | 49,127,643 |\", \"score\": 0.85967577}, {\"title\": \"South Korea: GDP growth 1954-2030 - Statista\", \"url\": \"https://www.statista.com/statistics/263758/gross-domestic-product-gdp-growth-in-south-korea/\", \"content\": \"| Characteristic | GDP growth compared to previous year |\\\\n| --- | --- |\\\\n| 2029\\\\\\\\* | 2.04% |\\\\n| 2028\\\\\\\\* | 2.1% |\\\\n| 2027\\\\\\\\* | 2.12% |\\\\n| 2026\\\\\\\\* | 2.16% |\\\\n| 2025\\\\\\\\* | 2.17% |\\\\n| 2024\\\\\\\\* | 2.49% |\\\\n| 2023 | 1.4% |\\\\n| 2022 | 2.73% |\\\\n| 2021 | 4.61% |\\\\n| 2020 | \\\\\\\\-0.7% |\\\\n| 2019 | 2.31% |\\\\n| 2018 | 2.91% |\\\\n| 2017 | 3.16% |\\\\n\\\\nShowing entries 1 to 13 (76 entries in total)\\\\n\\\\nPrevious Next\\\\n\\\\n×**Zoomable Statistic:** Select the range in the chart you want to zoom in on.\\\\n\\\\n\\\\\\\\-10%\\\\\\\\-5%0%5%10%15%20%\\\\n\\\\nAdditional Information [...] [](https://www.statista.com/statistics/263758/gross-domestic-product-gdp-growth-in-south-korea/#statisticContainer)The statistic shows the growth of the real gross domestic product (GDP) in South Korea from 1954 to 2023, with projections up until 2029. GDP is the total value of all goods and services produced in a country in a year. It is considered to be a very important indicator of the economic strength of a country and a change in it is a sign of economic growth. In 2023, the real GDP in [...] IMF, & Bank of Korea. (October 22, 2024). South Korea: Growth of real gross domestic product (GDP) from 1954 to 2023, with projections until 2029 (compared to the previous year) \\\\\\\\[Graph\\\\\\\\]. In Statista. Retrieved May 11, 2025, from https://www.statista.com/statistics/263758/gross-domestic-product-gdp-growth-in-south-korea/\", \"score\": 0.85825616}, {\"title\": \"South Korea GDP - Trading Economics\", \"url\": \"https://tradingeconomics.com/south-korea/gdp\", \"content\": \"GDP in South Korea averaged 558.23 USD Billion from 1960 until 2023, reaching an all time high of 1818.43 USD Billion in 2021 and a record low of 2.42 USD Billion in 1961. This page provides - South Korea GDP - actual values, historical data, forecast, chart, statistics, economic calendar and news. South Korea GDP - values, historical data and charts - was last updated on May of 2025. [...] | Related | Last | Previous | Unit | Reference |\\\\n| --- | --- | --- | --- | --- |\\\\n| [GDP](https://tradingeconomics.com/south-korea/gdp) | 1712.79 | 1673.92 | USD Billion | Dec 2023 |\\\\n| [GDP per Capita](https://tradingeconomics.com/south-korea/gdp-per-capita) | 34121.02 | 33690.38 | USD | Dec 2023 |\\\\n| [GDP per Capita PPP](https://tradingeconomics.com/south-korea/gdp-per-capita-ppp) | 49995.49 | 49364.49 | USD | Dec 2023 |\\\\n\\\\n[](https://tradingeconomics.com/south-korea/indicators) [...] The Gross Domestic Product (GDP) in South Korea was worth 1712.79 billion US dollars in 2023, according to official data from the World Bank. The GDP value of South Korea represents 1.62 percent of the world economy. source: [World Bank](https://www.worldbank.org/)\\\\n--------------------------------------------------------------------------------------------------------------------------------\", \"score\": 0.8479807}]', name='tavily_search_results_json', id='bedf6507-629f-4487-9fec-75ca8d3cfddc', tool_call_id='call_abZmm7l40K9WiavikzlATfUF', artifact={'query': 'South Korea GDP last 10 years', 'follow_up_questions': None, 'answer': None, 'images': [], 'results': [{'url': 'https://www.statista.com/statistics/263579/gross-domestic-product-gdp-in-south-korea/', 'title': 'South Korea GDP 1987-2030 - Statista', 'content': '[](https://www.statista.com/statistics/263579/gross-domestic-product-gdp-in-south-korea/#statisticContainer)The statistic shows gross domestic product (GDP) of South Korea from 1987 to 2023, with projections up until 2029. GDP or gross domestic product is the sum of all goods and services produced in a country in a year; it is a strong indicator of economic strength. In 2023, South Korea\\'s GDP was around 1.71 trillion U.S. dollars. See [global [...] IMF. (October 10, 2024). South Korea: Gross domestic product (GDP) in current prices from 1987 to 2029 (in billion U.S. dollars) \\\\[Graph\\\\]. In Statista. Retrieved May 09, 2025, from https://www.statista.com/statistics/263579/gross-domestic-product-gdp-in-south-korea/ [...] IMF. \"South Korea: Gross domestic product (GDP) in current prices from 1987 to 2029 (in billion U.S. dollars).\" Chart. October 10, 2024. Statista. Accessed May 09, 2025. https://www.statista.com/statistics/263579/gross-domestic-product-gdp-in-south-korea/', 'score': 0.8700796, 'raw_content': None}, {'url': 'https://www.macrotrends.net/global-metrics/countries/kor/south-korea/gdp-gross-domestic-product', 'title': 'South Korea GDP 1960-2025 | MacroTrends', 'content': '##### South Korea GDP for 2023 was **1.713 trillion US dollars**, a **2.32% increase** from 2022.\\n\\n*   South Korea GDP for 2022 was **1.674 trillion US dollars**, a **7.95% decline** from 2021.\\n*   South Korea GDP for 2021 was **1.818 trillion US dollars**, a **10.59% increase** from 2020.\\n*   South Korea GDP for 2020 was **1.644 trillion US dollars**, a **0.43% decline** from 2019.', 'score': 0.8638634, 'raw_content': None}, {'url': 'https://www.worldometers.info/gdp/south-korea-gdp/', 'title': 'South Korea GDP - Worldometer', 'content': '| Year | GDP Nominal (Current USD) | GDP Real (Inflation adj.) | GDP Change | GDP per capita | Pop. Change | Population |\\n| --- | --- | --- | --- | --- | --- | --- |\\n| 2023 | $1,712,790,000,000 | $1,764,490,000,000 | 1.36% | $34,097 | −0.07% | 51,748,739 |\\n| 2022 | $1,673,920,000,000 | $1,740,870,000,000 | 2.61% | $33,619 | −0.13% | 51,782,512 |\\n| 2021 | $1,818,430,000,000 | $1,696,540,000,000 | 4.3% | $32,721 | −0.02% | 51,848,397 | [...] | 2020 | $1,644,310,000,000 | $1,626,530,000,000 | −0.71% | $31,365 | 0.18% | 51,858,482 |\\n| 2019 | $1,651,420,000,000 | $1,638,150,000,000 | 2.24% | $31,644 | 0.25% | 51,767,846 |\\n| 2018 | $1,725,370,000,000 | $1,602,190,000,000 | 2.91% | $31,026 | 0.3% | 51,640,894 |\\n| 2017 | $1,623,070,000,000 | $1,556,930,000,000 | 3.16% | $30,240 | 0.37% | 51,486,270 |\\n| 2016 | $1,499,680,000,000 | $1,509,240,000,000 | 2.95% | $29,421 | 0.62% | 51,297,839 | [...] | 2015 | $1,466,040,000,000 | $1,466,040,000,000 | 2.81% | $28,755 | 0.88% | 50,983,912 |\\n| 2014 | $1,484,490,000,000 | $1,425,980,000,000 | 3.2% | $28,215 | 0.93% | 50,539,056 |\\n| 2013 | $1,370,630,000,000 | $1,381,730,000,000 | 3.16% | $27,595 | 0.95% | 50,071,164 |\\n| 2012 | $1,278,050,000,000 | $1,339,350,000,000 | 2.4% | $27,003 | 0.96% | 49,599,579 |\\n| 2011 | $1,253,290,000,000 | $1,307,920,000,000 | 3.69% | $26,623 | 0.73% | 49,127,643 |', 'score': 0.85967577, 'raw_content': None}, {'url': 'https://www.statista.com/statistics/263758/gross-domestic-product-gdp-growth-in-south-korea/', 'title': 'South Korea: GDP growth 1954-2030 - Statista', 'content': '| Characteristic | GDP growth compared to previous year |\\n| --- | --- |\\n| 2029\\\\* | 2.04% |\\n| 2028\\\\* | 2.1% |\\n| 2027\\\\* | 2.12% |\\n| 2026\\\\* | 2.16% |\\n| 2025\\\\* | 2.17% |\\n| 2024\\\\* | 2.49% |\\n| 2023 | 1.4% |\\n| 2022 | 2.73% |\\n| 2021 | 4.61% |\\n| 2020 | \\\\-0.7% |\\n| 2019 | 2.31% |\\n| 2018 | 2.91% |\\n| 2017 | 3.16% |\\n\\nShowing entries 1 to 13 (76 entries in total)\\n\\nPrevious Next\\n\\n×**Zoomable Statistic:** Select the range in the chart you want to zoom in on.\\n\\n\\\\-10%\\\\-5%0%5%10%15%20%\\n\\nAdditional Information [...] [](https://www.statista.com/statistics/263758/gross-domestic-product-gdp-growth-in-south-korea/#statisticContainer)The statistic shows the growth of the real gross domestic product (GDP) in South Korea from 1954 to 2023, with projections up until 2029. GDP is the total value of all goods and services produced in a country in a year. It is considered to be a very important indicator of the economic strength of a country and a change in it is a sign of economic growth. In 2023, the real GDP in [...] IMF, & Bank of Korea. (October 22, 2024). South Korea: Growth of real gross domestic product (GDP) from 1954 to 2023, with projections until 2029 (compared to the previous year) \\\\[Graph\\\\]. In Statista. Retrieved May 11, 2025, from https://www.statista.com/statistics/263758/gross-domestic-product-gdp-growth-in-south-korea/', 'score': 0.85825616, 'raw_content': None}, {'url': 'https://tradingeconomics.com/south-korea/gdp', 'title': 'South Korea GDP - Trading Economics', 'content': 'GDP in South Korea averaged 558.23 USD Billion from 1960 until 2023, reaching an all time high of 1818.43 USD Billion in 2021 and a record low of 2.42 USD Billion in 1961. This page provides - South Korea GDP - actual values, historical data, forecast, chart, statistics, economic calendar and news. South Korea GDP - values, historical data and charts - was last updated on May of 2025. [...] | Related | Last | Previous | Unit | Reference |\\n| --- | --- | --- | --- | --- |\\n| [GDP](https://tradingeconomics.com/south-korea/gdp) | 1712.79 | 1673.92 | USD Billion | Dec 2023 |\\n| [GDP per Capita](https://tradingeconomics.com/south-korea/gdp-per-capita) | 34121.02 | 33690.38 | USD | Dec 2023 |\\n| [GDP per Capita PPP](https://tradingeconomics.com/south-korea/gdp-per-capita-ppp) | 49995.49 | 49364.49 | USD | Dec 2023 |\\n\\n[](https://tradingeconomics.com/south-korea/indicators) [...] The Gross Domestic Product (GDP) in South Korea was worth 1712.79 billion US dollars in 2023, according to official data from the World Bank. The GDP value of South Korea represents 1.62 percent of the world economy. source: [World Bank](https://www.worldbank.org/)\\n--------------------------------------------------------------------------------------------------------------------------------', 'score': 0.8479807, 'raw_content': None}], 'response_time': 4.69}), HumanMessage(content=\"Below are the GDP figures for South Korea over the past 10 years based on the most relevant search results:\\n\\n- 2023: $1,712.79 billion\\n- 2022: $1,673.92 billion\\n- 2021: $1,818.43 billion\\n- 2020: $1,644.31 billion\\n- 2019: $1,651.42 billion\\n- 2018: $1,725.37 billion\\n- 2017: $1,623.07 billion\\n- 2016: $1,499.68 billion\\n- 2015: $1,466.04 billion\\n- 2014: $1,484.49 billion\\n\\nI'll now proceed with generating a line chart using these figures.\", additional_kwargs={}, response_metadata={}, name='researcher', id='87e3d9ae-961d-4322-921d-20ebe0ee42ae')]}}\n",
      "----\n"
     ]
    },
    {
     "name": "stderr",
     "output_type": "stream",
     "text": [
      "Python REPL can execute arbitrary code. Use with caution.\n"
     ]
    },
    {
     "data": {
      "image/png": "[encoded data removed]",
      "text/plain": [
       "<Figure size 1000x600 with 1 Axes>"
      ]
     },
     "metadata": {},
     "output_type": "display_data"
    },
    {
     "name": "stdout",
     "output_type": "stream",
     "text": [
      "{'chart_generator': {'messages': [HumanMessage(content=\"First, get the KOREA's GDP over the past 10 years, then make a line chart of it. Once you make the chart, finish.\", additional_kwargs={}, response_metadata={}, id='13c5ff4a-18be-47b7-9a9c-9d3414be1a91'), AIMessage(content='', additional_kwargs={'tool_calls': [{'id': 'call_abZmm7l40K9WiavikzlATfUF', 'function': {'arguments': '{\"query\":\"South Korea GDP last 10 years\"}', 'name': 'tavily_search_results_json'}, 'type': 'function'}], 'refusal': None}, response_metadata={'token_usage': {'completion_tokens': 24, 'prompt_tokens': 211, 'total_tokens': 235, 'completion_tokens_details': {'accepted_prediction_tokens': 0, 'audio_tokens': 0, 'reasoning_tokens': 0, 'rejected_prediction_tokens': 0}, 'prompt_tokens_details': {'audio_tokens': 0, 'cached_tokens': 0}}, 'model_name': 'gpt-4o-2024-08-06', 'system_fingerprint': 'fp_07871e2ad8', 'id': 'chatcmpl-BfwvNVFSzCAGYo3nk5dvDIuloAoge', 'service_tier': 'default', 'finish_reason': 'tool_calls', 'logprobs': None}, id='run--797bb516-c2c3-4bcd-8789-0ae2d8e30c08-0', tool_calls=[{'name': 'tavily_search_results_json', 'args': {'query': 'South Korea GDP last 10 years'}, 'id': 'call_abZmm7l40K9WiavikzlATfUF', 'type': 'tool_call'}], usage_metadata={'input_tokens': 211, 'output_tokens': 24, 'total_tokens': 235, 'input_token_details': {'audio': 0, 'cache_read': 0}, 'output_token_details': {'audio': 0, 'reasoning': 0}}), ToolMessage(content='[{\"title\": \"South Korea GDP 1987-2030 - Statista\", \"url\": \"https://www.statista.com/statistics/263579/gross-domestic-product-gdp-in-south-korea/\", \"content\": \"[](https://www.statista.com/statistics/263579/gross-domestic-product-gdp-in-south-korea/#statisticContainer)The statistic shows gross domestic product (GDP) of South Korea from 1987 to 2023, with projections up until 2029. GDP or gross domestic product is the sum of all goods and services produced in a country in a year; it is a strong indicator of economic strength. In 2023, South Korea\\'s GDP was around 1.71 trillion U.S. dollars. See [global [...] IMF. (October 10, 2024). South Korea: Gross domestic product (GDP) in current prices from 1987 to 2029 (in billion U.S. dollars) \\\\\\\\[Graph\\\\\\\\]. In Statista. Retrieved May 09, 2025, from https://www.statista.com/statistics/263579/gross-domestic-product-gdp-in-south-korea/ [...] IMF. \\\\\"South Korea: Gross domestic product (GDP) in current prices from 1987 to 2029 (in billion U.S. dollars).\\\\\" Chart. October 10, 2024. Statista. Accessed May 09, 2025. https://www.statista.com/statistics/263579/gross-domestic-product-gdp-in-south-korea/\", \"score\": 0.8700796}, {\"title\": \"South Korea GDP 1960-2025 | MacroTrends\", \"url\": \"https://www.macrotrends.net/global-metrics/countries/kor/south-korea/gdp-gross-domestic-product\", \"content\": \"##### South Korea GDP for 2023 was **1.713 trillion US dollars**, a **2.32% increase** from 2022.\\\\n\\\\n*   South Korea GDP for 2022 was **1.674 trillion US dollars**, a **7.95% decline** from 2021.\\\\n*   South Korea GDP for 2021 was **1.818 trillion US dollars**, a **10.59% increase** from 2020.\\\\n*   South Korea GDP for 2020 was **1.644 trillion US dollars**, a **0.43% decline** from 2019.\", \"score\": 0.8638634}, {\"title\": \"South Korea GDP - Worldometer\", \"url\": \"https://www.worldometers.info/gdp/south-korea-gdp/\", \"content\": \"| Year | GDP Nominal (Current USD) | GDP Real (Inflation adj.) | GDP Change | GDP per capita | Pop. Change | Population |\\\\n| --- | --- | --- | --- | --- | --- | --- |\\\\n| 2023 | $1,712,790,000,000 | $1,764,490,000,000 | 1.36% | $34,097 | −0.07% | 51,748,739 |\\\\n| 2022 | $1,673,920,000,000 | $1,740,870,000,000 | 2.61% | $33,619 | −0.13% | 51,782,512 |\\\\n| 2021 | $1,818,430,000,000 | $1,696,540,000,000 | 4.3% | $32,721 | −0.02% | 51,848,397 | [...] | 2020 | $1,644,310,000,000 | $1,626,530,000,000 | −0.71% | $31,365 | 0.18% | 51,858,482 |\\\\n| 2019 | $1,651,420,000,000 | $1,638,150,000,000 | 2.24% | $31,644 | 0.25% | 51,767,846 |\\\\n| 2018 | $1,725,370,000,000 | $1,602,190,000,000 | 2.91% | $31,026 | 0.3% | 51,640,894 |\\\\n| 2017 | $1,623,070,000,000 | $1,556,930,000,000 | 3.16% | $30,240 | 0.37% | 51,486,270 |\\\\n| 2016 | $1,499,680,000,000 | $1,509,240,000,000 | 2.95% | $29,421 | 0.62% | 51,297,839 | [...] | 2015 | $1,466,040,000,000 | $1,466,040,000,000 | 2.81% | $28,755 | 0.88% | 50,983,912 |\\\\n| 2014 | $1,484,490,000,000 | $1,425,980,000,000 | 3.2% | $28,215 | 0.93% | 50,539,056 |\\\\n| 2013 | $1,370,630,000,000 | $1,381,730,000,000 | 3.16% | $27,595 | 0.95% | 50,071,164 |\\\\n| 2012 | $1,278,050,000,000 | $1,339,350,000,000 | 2.4% | $27,003 | 0.96% | 49,599,579 |\\\\n| 2011 | $1,253,290,000,000 | $1,307,920,000,000 | 3.69% | $26,623 | 0.73% | 49,127,643 |\", \"score\": 0.85967577}, {\"title\": \"South Korea: GDP growth 1954-2030 - Statista\", \"url\": \"https://www.statista.com/statistics/263758/gross-domestic-product-gdp-growth-in-south-korea/\", \"content\": \"| Characteristic | GDP growth compared to previous year |\\\\n| --- | --- |\\\\n| 2029\\\\\\\\* | 2.04% |\\\\n| 2028\\\\\\\\* | 2.1% |\\\\n| 2027\\\\\\\\* | 2.12% |\\\\n| 2026\\\\\\\\* | 2.16% |\\\\n| 2025\\\\\\\\* | 2.17% |\\\\n| 2024\\\\\\\\* | 2.49% |\\\\n| 2023 | 1.4% |\\\\n| 2022 | 2.73% |\\\\n| 2021 | 4.61% |\\\\n| 2020 | \\\\\\\\-0.7% |\\\\n| 2019 | 2.31% |\\\\n| 2018 | 2.91% |\\\\n| 2017 | 3.16% |\\\\n\\\\nShowing entries 1 to 13 (76 entries in total)\\\\n\\\\nPrevious Next\\\\n\\\\n×**Zoomable Statistic:** Select the range in the chart you want to zoom in on.\\\\n\\\\n\\\\\\\\-10%\\\\\\\\-5%0%5%10%15%20%\\\\n\\\\nAdditional Information [...] [](https://www.statista.com/statistics/263758/gross-domestic-product-gdp-growth-in-south-korea/#statisticContainer)The statistic shows the growth of the real gross domestic product (GDP) in South Korea from 1954 to 2023, with projections up until 2029. GDP is the total value of all goods and services produced in a country in a year. It is considered to be a very important indicator of the economic strength of a country and a change in it is a sign of economic growth. In 2023, the real GDP in [...] IMF, & Bank of Korea. (October 22, 2024). South Korea: Growth of real gross domestic product (GDP) from 1954 to 2023, with projections until 2029 (compared to the previous year) \\\\\\\\[Graph\\\\\\\\]. In Statista. Retrieved May 11, 2025, from https://www.statista.com/statistics/263758/gross-domestic-product-gdp-growth-in-south-korea/\", \"score\": 0.85825616}, {\"title\": \"South Korea GDP - Trading Economics\", \"url\": \"https://tradingeconomics.com/south-korea/gdp\", \"content\": \"GDP in South Korea averaged 558.23 USD Billion from 1960 until 2023, reaching an all time high of 1818.43 USD Billion in 2021 and a record low of 2.42 USD Billion in 1961. This page provides - South Korea GDP - actual values, historical data, forecast, chart, statistics, economic calendar and news. South Korea GDP - values, historical data and charts - was last updated on May of 2025. [...] | Related | Last | Previous | Unit | Reference |\\\\n| --- | --- | --- | --- | --- |\\\\n| [GDP](https://tradingeconomics.com/south-korea/gdp) | 1712.79 | 1673.92 | USD Billion | Dec 2023 |\\\\n| [GDP per Capita](https://tradingeconomics.com/south-korea/gdp-per-capita) | 34121.02 | 33690.38 | USD | Dec 2023 |\\\\n| [GDP per Capita PPP](https://tradingeconomics.com/south-korea/gdp-per-capita-ppp) | 49995.49 | 49364.49 | USD | Dec 2023 |\\\\n\\\\n[](https://tradingeconomics.com/south-korea/indicators) [...] The Gross Domestic Product (GDP) in South Korea was worth 1712.79 billion US dollars in 2023, according to official data from the World Bank. The GDP value of South Korea represents 1.62 percent of the world economy. source: [World Bank](https://www.worldbank.org/)\\\\n--------------------------------------------------------------------------------------------------------------------------------\", \"score\": 0.8479807}]', name='tavily_search_results_json', id='bedf6507-629f-4487-9fec-75ca8d3cfddc', tool_call_id='call_abZmm7l40K9WiavikzlATfUF', artifact={'query': 'South Korea GDP last 10 years', 'follow_up_questions': None, 'answer': None, 'images': [], 'results': [{'url': 'https://www.statista.com/statistics/263579/gross-domestic-product-gdp-in-south-korea/', 'title': 'South Korea GDP 1987-2030 - Statista', 'content': '[](https://www.statista.com/statistics/263579/gross-domestic-product-gdp-in-south-korea/#statisticContainer)The statistic shows gross domestic product (GDP) of South Korea from 1987 to 2023, with projections up until 2029. GDP or gross domestic product is the sum of all goods and services produced in a country in a year; it is a strong indicator of economic strength. In 2023, South Korea\\'s GDP was around 1.71 trillion U.S. dollars. See [global [...] IMF. (October 10, 2024). South Korea: Gross domestic product (GDP) in current prices from 1987 to 2029 (in billion U.S. dollars) \\\\[Graph\\\\]. In Statista. Retrieved May 09, 2025, from https://www.statista.com/statistics/263579/gross-domestic-product-gdp-in-south-korea/ [...] IMF. \"South Korea: Gross domestic product (GDP) in current prices from 1987 to 2029 (in billion U.S. dollars).\" Chart. October 10, 2024. Statista. Accessed May 09, 2025. https://www.statista.com/statistics/263579/gross-domestic-product-gdp-in-south-korea/', 'score': 0.8700796, 'raw_content': None}, {'url': 'https://www.macrotrends.net/global-metrics/countries/kor/south-korea/gdp-gross-domestic-product', 'title': 'South Korea GDP 1960-2025 | MacroTrends', 'content': '##### South Korea GDP for 2023 was **1.713 trillion US dollars**, a **2.32% increase** from 2022.\\n\\n*   South Korea GDP for 2022 was **1.674 trillion US dollars**, a **7.95% decline** from 2021.\\n*   South Korea GDP for 2021 was **1.818 trillion US dollars**, a **10.59% increase** from 2020.\\n*   South Korea GDP for 2020 was **1.644 trillion US dollars**, a **0.43% decline** from 2019.', 'score': 0.8638634, 'raw_content': None}, {'url': 'https://www.worldometers.info/gdp/south-korea-gdp/', 'title': 'South Korea GDP - Worldometer', 'content': '| Year | GDP Nominal (Current USD) | GDP Real (Inflation adj.) | GDP Change | GDP per capita | Pop. Change | Population |\\n| --- | --- | --- | --- | --- | --- | --- |\\n| 2023 | $1,712,790,000,000 | $1,764,490,000,000 | 1.36% | $34,097 | −0.07% | 51,748,739 |\\n| 2022 | $1,673,920,000,000 | $1,740,870,000,000 | 2.61% | $33,619 | −0.13% | 51,782,512 |\\n| 2021 | $1,818,430,000,000 | $1,696,540,000,000 | 4.3% | $32,721 | −0.02% | 51,848,397 | [...] | 2020 | $1,644,310,000,000 | $1,626,530,000,000 | −0.71% | $31,365 | 0.18% | 51,858,482 |\\n| 2019 | $1,651,420,000,000 | $1,638,150,000,000 | 2.24% | $31,644 | 0.25% | 51,767,846 |\\n| 2018 | $1,725,370,000,000 | $1,602,190,000,000 | 2.91% | $31,026 | 0.3% | 51,640,894 |\\n| 2017 | $1,623,070,000,000 | $1,556,930,000,000 | 3.16% | $30,240 | 0.37% | 51,486,270 |\\n| 2016 | $1,499,680,000,000 | $1,509,240,000,000 | 2.95% | $29,421 | 0.62% | 51,297,839 | [...] | 2015 | $1,466,040,000,000 | $1,466,040,000,000 | 2.81% | $28,755 | 0.88% | 50,983,912 |\\n| 2014 | $1,484,490,000,000 | $1,425,980,000,000 | 3.2% | $28,215 | 0.93% | 50,539,056 |\\n| 2013 | $1,370,630,000,000 | $1,381,730,000,000 | 3.16% | $27,595 | 0.95% | 50,071,164 |\\n| 2012 | $1,278,050,000,000 | $1,339,350,000,000 | 2.4% | $27,003 | 0.96% | 49,599,579 |\\n| 2011 | $1,253,290,000,000 | $1,307,920,000,000 | 3.69% | $26,623 | 0.73% | 49,127,643 |', 'score': 0.85967577, 'raw_content': None}, {'url': 'https://www.statista.com/statistics/263758/gross-domestic-product-gdp-growth-in-south-korea/', 'title': 'South Korea: GDP growth 1954-2030 - Statista', 'content': '| Characteristic | GDP growth compared to previous year |\\n| --- | --- |\\n| 2029\\\\* | 2.04% |\\n| 2028\\\\* | 2.1% |\\n| 2027\\\\* | 2.12% |\\n| 2026\\\\* | 2.16% |\\n| 2025\\\\* | 2.17% |\\n| 2024\\\\* | 2.49% |\\n| 2023 | 1.4% |\\n| 2022 | 2.73% |\\n| 2021 | 4.61% |\\n| 2020 | \\\\-0.7% |\\n| 2019 | 2.31% |\\n| 2018 | 2.91% |\\n| 2017 | 3.16% |\\n\\nShowing entries 1 to 13 (76 entries in total)\\n\\nPrevious Next\\n\\n×**Zoomable Statistic:** Select the range in the chart you want to zoom in on.\\n\\n\\\\-10%\\\\-5%0%5%10%15%20%\\n\\nAdditional Information [...] [](https://www.statista.com/statistics/263758/gross-domestic-product-gdp-growth-in-south-korea/#statisticContainer)The statistic shows the growth of the real gross domestic product (GDP) in South Korea from 1954 to 2023, with projections up until 2029. GDP is the total value of all goods and services produced in a country in a year. It is considered to be a very important indicator of the economic strength of a country and a change in it is a sign of economic growth. In 2023, the real GDP in [...] IMF, & Bank of Korea. (October 22, 2024). South Korea: Growth of real gross domestic product (GDP) from 1954 to 2023, with projections until 2029 (compared to the previous year) \\\\[Graph\\\\]. In Statista. Retrieved May 11, 2025, from https://www.statista.com/statistics/263758/gross-domestic-product-gdp-growth-in-south-korea/', 'score': 0.85825616, 'raw_content': None}, {'url': 'https://tradingeconomics.com/south-korea/gdp', 'title': 'South Korea GDP - Trading Economics', 'content': 'GDP in South Korea averaged 558.23 USD Billion from 1960 until 2023, reaching an all time high of 1818.43 USD Billion in 2021 and a record low of 2.42 USD Billion in 1961. This page provides - South Korea GDP - actual values, historical data, forecast, chart, statistics, economic calendar and news. South Korea GDP - values, historical data and charts - was last updated on May of 2025. [...] | Related | Last | Previous | Unit | Reference |\\n| --- | --- | --- | --- | --- |\\n| [GDP](https://tradingeconomics.com/south-korea/gdp) | 1712.79 | 1673.92 | USD Billion | Dec 2023 |\\n| [GDP per Capita](https://tradingeconomics.com/south-korea/gdp-per-capita) | 34121.02 | 33690.38 | USD | Dec 2023 |\\n| [GDP per Capita PPP](https://tradingeconomics.com/south-korea/gdp-per-capita-ppp) | 49995.49 | 49364.49 | USD | Dec 2023 |\\n\\n[](https://tradingeconomics.com/south-korea/indicators) [...] The Gross Domestic Product (GDP) in South Korea was worth 1712.79 billion US dollars in 2023, according to official data from the World Bank. The GDP value of South Korea represents 1.62 percent of the world economy. source: [World Bank](https://www.worldbank.org/)\\n--------------------------------------------------------------------------------------------------------------------------------', 'score': 0.8479807, 'raw_content': None}], 'response_time': 4.69}), HumanMessage(content=\"Below are the GDP figures for South Korea over the past 10 years based on the most relevant search results:\\n\\n- 2023: $1,712.79 billion\\n- 2022: $1,673.92 billion\\n- 2021: $1,818.43 billion\\n- 2020: $1,644.31 billion\\n- 2019: $1,651.42 billion\\n- 2018: $1,725.37 billion\\n- 2017: $1,623.07 billion\\n- 2016: $1,499.68 billion\\n- 2015: $1,466.04 billion\\n- 2014: $1,484.49 billion\\n\\nI'll now proceed with generating a line chart using these figures.\", additional_kwargs={}, response_metadata={}, name='researcher', id='87e3d9ae-961d-4322-921d-20ebe0ee42ae'), AIMessage(content='', additional_kwargs={'tool_calls': [{'id': 'call_OQmVZWlRQansy2l9YVqHiYxk', 'function': {'arguments': '{\"code\":\"import matplotlib.pyplot as plt\\\\n\\\\n# Data for South Korea\\'s GDP over the past 10 years\\\\nyears = [2014, 2015, 2016, 2017, 2018, 2019, 2020, 2021, 2022, 2023]\\\\ngdp = [1484.49, 1466.04, 1499.68, 1623.07, 1725.37, 1651.42, 1644.31, 1818.43, 1673.92, 1712.79]\\\\n\\\\n# Create a line chart\\\\nplt.figure(figsize=(10, 6))\\\\nplt.plot(years, gdp, marker=\\'o\\')\\\\nplt.title(\\\\\"South Korea\\'s GDP Over the Past 10 Years\\\\\")\\\\nplt.xlabel(\\\\\"Year\\\\\")\\\\nplt.ylabel(\\\\\"GDP in Billion USD\\\\\")\\\\nplt.grid(True)\\\\nplt.xticks(years)\\\\n\\\\n# Show the plot\\\\nplt.show()\"}', 'name': 'python_repl_tool'}, 'type': 'function'}], 'refusal': None}, response_metadata={'token_usage': {'completion_tokens': 228, 'prompt_tokens': 2631, 'total_tokens': 2859, 'completion_tokens_details': {'accepted_prediction_tokens': 0, 'audio_tokens': 0, 'reasoning_tokens': 0, 'rejected_prediction_tokens': 0}, 'prompt_tokens_details': {'audio_tokens': 0, 'cached_tokens': 0}}, 'model_name': 'gpt-4o-2024-08-06', 'system_fingerprint': 'fp_07871e2ad8', 'id': 'chatcmpl-BfwvVUzLJ95lbzBmS7oG5ytzGuCoT', 'service_tier': 'default', 'finish_reason': 'tool_calls', 'logprobs': None}, id='run--a062a500-24e7-4e40-b449-e5fbf0b3b085-0', tool_calls=[{'name': 'python_repl_tool', 'args': {'code': 'import matplotlib.pyplot as plt\\n\\n# Data for South Korea\\'s GDP over the past 10 years\\nyears = [2014, 2015, 2016, 2017, 2018, 2019, 2020, 2021, 2022, 2023]\\ngdp = [1484.49, 1466.04, 1499.68, 1623.07, 1725.37, 1651.42, 1644.31, 1818.43, 1673.92, 1712.79]\\n\\n# Create a line chart\\nplt.figure(figsize=(10, 6))\\nplt.plot(years, gdp, marker=\\'o\\')\\nplt.title(\"South Korea\\'s GDP Over the Past 10 Years\")\\nplt.xlabel(\"Year\")\\nplt.ylabel(\"GDP in Billion USD\")\\nplt.grid(True)\\nplt.xticks(years)\\n\\n# Show the plot\\nplt.show()'}, 'id': 'call_OQmVZWlRQansy2l9YVqHiYxk', 'type': 'tool_call'}], usage_metadata={'input_tokens': 2631, 'output_tokens': 228, 'total_tokens': 2859, 'input_token_details': {'audio': 0, 'cache_read': 0}, 'output_token_details': {'audio': 0, 'reasoning': 0}}), ToolMessage(content='Successfully executed:\\n```python\\nimport matplotlib.pyplot as plt\\n\\n# Data for South Korea\\'s GDP over the past 10 years\\nyears = [2014, 2015, 2016, 2017, 2018, 2019, 2020, 2021, 2022, 2023]\\ngdp = [1484.49, 1466.04, 1499.68, 1623.07, 1725.37, 1651.42, 1644.31, 1818.43, 1673.92, 1712.79]\\n\\n# Create a line chart\\nplt.figure(figsize=(10, 6))\\nplt.plot(years, gdp, marker=\\'o\\')\\nplt.title(\"South Korea\\'s GDP Over the Past 10 Years\")\\nplt.xlabel(\"Year\")\\nplt.ylabel(\"GDP in Billion USD\")\\nplt.grid(True)\\nplt.xticks(years)\\n\\n# Show the plot\\nplt.show()\\n```\\nStdout: \\n\\nIf you have completed all tasks, respond with FINAL ANSWER.', name='python_repl_tool', id='959590ae-e10c-4440-9b2a-869144aa6533', tool_call_id='call_OQmVZWlRQansy2l9YVqHiYxk'), HumanMessage(content=\"FINAL ANSWER: I have generated a line chart depicting South Korea's GDP over the past 10 years. The chart showcases the trajectory of GDP from 2014 to 2023, with values ranging from $1,484.49 billion in 2014 to $1,712.79 billion in 2023.\", additional_kwargs={}, response_metadata={}, name='chart_generator', id='19a19999-3d46-464a-9c9b-bdb96012bd4c')]}}\n",
      "----\n"
     ]
    }
   ],
   "source": [
    "events = graph.stream(\n",
    "    {\n",
    "        \"messages\": [\n",
    "            (\n",
    "                \"user\",\n",
    "                \"First, get the KOREA's GDP over the past 10 years, then make a line chart of it. \"\n",
    "                \"Once you make the chart, finish.\",\n",
    "            )\n",
    "        ],\n",
    "    },\n",
    "    # Maximum number of steps to take in the graph\n",
    "    {\"recursion_limit\": 150},\n",
    ")\n",
    "for s in events:\n",
    "    print(s)\n",
    "    print(\"----\")"
   ]
  },
  {
   "cell_type": "code",
   "execution_count": null,
   "id": "4b92f4dd",
   "metadata": {},
   "outputs": [],
   "source": []
  },
  {
   "cell_type": "markdown",
   "id": "f6553901",
   "metadata": {},
   "source": []
  },
  {
   "cell_type": "markdown",
   "id": "f70a2155",
   "metadata": {},
   "source": [
    "# AI Agent"
   ]
  },
  {
   "cell_type": "markdown",
   "id": "ba4af2c8",
   "metadata": {},
   "source": [
    "## Langgraph - Web search + LLM = 검색 Chatbot\n",
    "\n",
    "- Tool을 호출하고 그 결과를 모델(LLM)로 전달하기\n",
    "\n",
    "- https://langchain-ai.github.io/langgraph/tutorials/introduction/#part-2-enhancing-the-chatbot-with-tools"
   ]
  },
  {
   "cell_type": "code",
   "execution_count": null,
   "id": "d8663e78",
   "metadata": {},
   "outputs": [],
   "source": [
    "# # Example: Passing tool outputs to model\n",
    "# from langchain_core.tools import tool\n",
    "\n",
    "# @tool\n",
    "# def add(a: int, b: int) -> int:\n",
    "#     \"\"\"Adds a and b.\n",
    "\n",
    "#     Args:\n",
    "#         a: first int\n",
    "#         b: second int\n",
    "#     \"\"\"\n",
    "#     return a + b\n",
    "\n",
    "# @tool\n",
    "# def multiply(a: int, b: int) -> int:\n",
    "#     \"\"\"Multiplies a and b.\n",
    "\n",
    "#     Args:\n",
    "#         a: first int\n",
    "#         b: second int\n",
    "#     \"\"\"\n",
    "#     return a * b\n",
    "\n",
    "# tools = [add, multiply]"
   ]
  },
  {
   "cell_type": "code",
   "execution_count": 70,
   "id": "8d5acb56",
   "metadata": {},
   "outputs": [
    {
     "data": {
      "text/plain": [
       "<langgraph.graph.state.StateGraph at 0x2662078bc80>"
      ]
     },
     "execution_count": 70,
     "metadata": {},
     "output_type": "execute_result"
    }
   ],
   "source": [
    "# chatbot\n",
    "from typing import Annotated\n",
    "from typing_extensions import TypedDict\n",
    "\n",
    "from langgraph.graph import StateGraph, START, END\n",
    "from langgraph.graph.message import add_messages\n",
    "from langchain_openai import ChatOpenAI\n",
    "\n",
    "tool = TavilySearchResults(max_results=2)\n",
    "tools = [tool]\n",
    "\n",
    "llm = ChatOpenAI(model=\"gpt-4o\")\n",
    "llm_with_tools = llm.bind_tools(tools)\n",
    "\n",
    "class State(TypedDict): # 그래프의 상태를 정의하는 클래스\n",
    "    messages: Annotated[list, add_messages] # 메시지 누적\n",
    "\n",
    "graph_builder = StateGraph(State) # StateGraph 생성 (대화 흐름 관리)\n",
    "\n",
    "def chatbot(state: State):\n",
    "    return {\"messages\": [llm_with_tools.invoke(state[\"messages\"])]}\n",
    "\n",
    "graph_builder.add_node(\"chatbot\", chatbot)"
   ]
  },
  {
   "cell_type": "code",
   "execution_count": 71,
   "id": "e3ec708f",
   "metadata": {},
   "outputs": [
    {
     "data": {
      "text/plain": [
       "<langgraph.graph.state.StateGraph at 0x2662078bc80>"
      ]
     },
     "execution_count": 71,
     "metadata": {},
     "output_type": "execute_result"
    }
   ],
   "source": [
    "# tool\n",
    "import json\n",
    "from langchain_core.messages import ToolMessage\n",
    "\n",
    "class BasicToolNode:\n",
    "    \"\"\"\n",
    "        A node that runs the tools requested in the last AIMessage.\n",
    "        마지막 AIMessage에서 요청된 도구를 실행하는 노드\n",
    "    \"\"\"\n",
    "\n",
    "    def __init__(self, tools: list) -> None:\n",
    "        self.tools_by_name = {tool.name: tool for tool in tools} # [\"tavily_search_results_json\" : TavilySearchResults()]\n",
    "\n",
    "    def __call__(self, inputs: dict):\n",
    "        if messages := inputs.get(\"messages\", []):\n",
    "            message = messages[-1] # 마지막 message\n",
    "        else:\n",
    "            raise ValueError(\"No message found in input\")\n",
    "        outputs = []\n",
    "        for tool_call in message.tool_calls: # 메시지에서 호출된 도구를 불러옴\n",
    "            tool_result = self.tools_by_name[tool_call[\"name\"]].invoke( # Tool 호출 실행\n",
    "                tool_call[\"args\"]\n",
    "            )\n",
    "            outputs.append( # Tool 호출 결과(ToolMessage) 추가\n",
    "                ToolMessage(\n",
    "                    content=json.dumps(tool_result),\n",
    "                    name=tool_call[\"name\"],\n",
    "                    tool_call_id=tool_call[\"id\"],\n",
    "                )\n",
    "            )\n",
    "        return {\"messages\": outputs}\n",
    "\n",
    "tool_node = BasicToolNode(tools=[tool])\n",
    "graph_builder.add_node(\"tools\", tool_node)"
   ]
  },
  {
   "cell_type": "code",
   "execution_count": 72,
   "id": "4d8bab07",
   "metadata": {},
   "outputs": [
    {
     "data": {
      "text/plain": [
       "<langgraph.graph.state.StateGraph at 0x2662078bc80>"
      ]
     },
     "execution_count": 72,
     "metadata": {},
     "output_type": "execute_result"
    }
   ],
   "source": [
    "# edge\n",
    "def route_tools(\n",
    "    state: State,\n",
    "):\n",
    "    \"\"\"\n",
    "    Use in the conditional_edge to route to the ToolNode if the last message\n",
    "    has tool calls. Otherwise, route to the end.\n",
    "    \"\"\"\n",
    "    if isinstance(state, list):\n",
    "        ai_message = state[-1]\n",
    "    elif messages := state.get(\"messages\", []):\n",
    "        ai_message = messages[-1]\n",
    "    else:\n",
    "        raise ValueError(f\"No messages found in input state to tool_edge: {state}\")\n",
    "    if hasattr(ai_message, \"tool_calls\") and len(ai_message.tool_calls) > 0: # if the last message has \"tool_calls\"\n",
    "        return \"tools\"\n",
    "    return END\n",
    "\n",
    "# 조건부 엣지 연결\n",
    "graph_builder.add_conditional_edges(\n",
    "    \"chatbot\", # 시작 노드\n",
    "    route_tools,\n",
    "    {\"tools\": \"tools\", END: END}, # 반환값이 \"tools\" 면 \"tools\" 노드로, END 면 END로 이동\n",
    ")"
   ]
  },
  {
   "cell_type": "code",
   "execution_count": 73,
   "id": "f5ecbd8a",
   "metadata": {},
   "outputs": [],
   "source": [
    "# 엣지 연결\n",
    "graph_builder.add_edge(\"tools\", \"chatbot\") # 도구가 호출될 때마다 챗봇으로 돌아가 다음 단계를 결정\n",
    "graph_builder.add_edge(START, \"chatbot\")\n",
    "graph = graph_builder.compile()"
   ]
  },
  {
   "cell_type": "code",
   "execution_count": 74,
   "id": "1c21d9d9",
   "metadata": {},
   "outputs": [
    {
     "data": {
      "image/png": "[encoded data removed]",
      "text/plain": [
       "<IPython.core.display.Image object>"
      ]
     },
     "metadata": {},
     "output_type": "display_data"
    }
   ],
   "source": [
    "from IPython.display import Image, display\n",
    "\n",
    "try:\n",
    "    display(Image(graph.get_graph().draw_mermaid_png()))\n",
    "except Exception:\n",
    "    # This requires some extra dependencies and is optional\n",
    "    pass"
   ]
  },
  {
   "cell_type": "code",
   "execution_count": 75,
   "id": "ec535422",
   "metadata": {},
   "outputs": [],
   "source": [
    "def stream_graph_updates(user_input: str):\n",
    "    for event in graph.stream({\"messages\": [{\"role\": \"user\", \"content\": user_input}]}): # graph 노드 호출 결과 받아옴\n",
    "        for value in event.values():\n",
    "            print(\"Assistant:\", value[\"messages\"][-1].content) # AI 답변 출력"
   ]
  },
  {
   "cell_type": "code",
   "execution_count": 76,
   "id": "8cfd7925",
   "metadata": {},
   "outputs": [
    {
     "name": "stdout",
     "output_type": "stream",
     "text": [
      "User: hi\n",
      "Assistant: Hello! How can I assist you today?\n",
      "User: what is lessearfim\n",
      "Assistant: \n",
      "Assistant: [{\"title\": \"LE SSERAFIM Members Profile (Updated!) - Kpop Profiles\", \"url\": \"https://kprofiles.com/le-sserafim-members-profile/\", \"content\": \"LE SSERAFIM (\\ub974\\uc138\\ub77c\\ud54c) is a 5-member girl group under HYBE and Source Music. The members currently consist of Kim Chaewon, Sakura, Huh Yunjin,\", \"score\": 0.8467682}, {\"title\": \"LE SSERAFIM \\ub974\\uc138\\ub77c\\ud54c \\uacf5\\uc2dd \\ud648\\ud398\\uc774\\uc9c0 - SOURCE MUSIC\", \"url\": \"https://www.sourcemusic.com/artist/profile/LE%20SSERAFIM\", \"content\": \"LE SSERAFIM is a girl group with SOURCE MUSIC, a label under HYBE, consisting of five members of different nationalities: SAKURA,\", \"score\": 0.8449346}]\n",
      "Assistant: LE SSERAFIM is a 5-member girl group under the label HYBE and Source Music. The group consists of members from different nationalities including Kim Chaewon, Sakura, and Huh Yunjin among others. For more details, you can visit [LE SSERAFIM's profile on Kpop Profiles](https://kprofiles.com/le-sserafim-members-profile/) or [their official page on Source Music](https://www.sourcemusic.com/artist/profile/LE%20SSERAFIM).\n",
      "User: exit\n",
      "Goodbye!\n"
     ]
    }
   ],
   "source": [
    "while True:\n",
    "    try:\n",
    "        user_input = input(\"User: \")\n",
    "        print(\"User: \" + user_input)\n",
    "        if user_input.lower() in [\"quit\", \"exit\", \"q\"]:\n",
    "            print(\"Goodbye!\")\n",
    "            break\n",
    "\n",
    "        stream_graph_updates(user_input)\n",
    "    except:\n",
    "        # fallback if input() is not available\n",
    "        user_input = \"What do you know about LangGraph?\"\n",
    "        print(\"User: \" + user_input)\n",
    "        stream_graph_updates(user_input)\n",
    "        break"
   ]
  },
  {
   "cell_type": "code",
   "execution_count": null,
   "id": "0fd678ed",
   "metadata": {},
   "outputs": [],
   "source": []
  }
 ],
 "metadata": {
  "colab": {
   "provenance": []
  },
  "kernelspec": {
   "display_name": "study_venv",
   "language": "python",
   "name": "python3"
  },
  "language_info": {
   "codemirror_mode": {
    "name": "ipython",
    "version": 3
   },
   "file_extension": ".py",
   "mimetype": "text/x-python",
   "name": "python",
   "nbconvert_exporter": "python",
   "pygments_lexer": "ipython3",
   "version": "3.12.8"
  }
 },
 "nbformat": 4,
 "nbformat_minor": 5
}
